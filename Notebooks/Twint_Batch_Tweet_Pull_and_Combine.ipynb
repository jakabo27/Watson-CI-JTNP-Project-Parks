{
  "nbformat": 4,
  "nbformat_minor": 0,
  "metadata": {
    "colab": {
      "name": "Twint Batch Tweet Pull and Combine.ipynb",
      "provenance": [],
      "collapsed_sections": []
    },
    "kernelspec": {
      "name": "python3",
      "display_name": "Python 3"
    }
  },
  "cells": [
    {
      "cell_type": "code",
      "metadata": {
        "id": "FuzgGXeOBmlY",
        "colab_type": "code",
        "outputId": "19cb3c66-0d35-4044-85c3-593e9f58f57a",
        "colab": {
          "base_uri": "https://localhost:8080/",
          "height": 343
        }
      },
      "source": [
        "#mount google drive\n",
        "from google.colab import drive\n",
        "drive.mount('/content/drive')\n",
        "\n",
        "# install twitter scraper - use !pip because it isn't included with Google Colab / Jupyter by default\n",
        "!pip install -q twint\n",
        "\n",
        "#imports\n",
        "import twint\n",
        "import logging \n",
        "import pandas as pd\n",
        "import lxml.etree\n",
        "import datetime as dt\n",
        "from multiprocessing.pool import ThreadPool\n",
        "import time\n",
        "from datetime import datetime  \n",
        "from datetime import timedelta \n",
        "from pytz import timezone\n",
        "import os\n",
        "\n",
        "\n",
        "print('\\n\\nFinished importing things and setting up environment!  At ' + str(datetime.now(timezone('EST'))))"
      ],
      "execution_count": 0,
      "outputs": [
        {
          "output_type": "stream",
          "text": [
            "Go to this URL in a browser: https://accounts.google.com/o/oauth2/auth?client_id=947318989803-6bn6qk8qdgf4n4g3pfee6491hc0brc4i.apps.googleusercontent.com&redirect_uri=urn%3aietf%3awg%3aoauth%3a2.0%3aoob&response_type=code&scope=email%20https%3a%2f%2fwww.googleapis.com%2fauth%2fdocs.test%20https%3a%2f%2fwww.googleapis.com%2fauth%2fdrive%20https%3a%2f%2fwww.googleapis.com%2fauth%2fdrive.photos.readonly%20https%3a%2f%2fwww.googleapis.com%2fauth%2fpeopleapi.readonly\n",
            "\n",
            "Enter your authorization code:\n",
            "··········\n",
            "Mounted at /content/drive\n",
            "\u001b[K     |████████████████████████████████| 1.2MB 7.6MB/s \n",
            "\u001b[K     |████████████████████████████████| 245kB 64.2MB/s \n",
            "\u001b[K     |████████████████████████████████| 92kB 11.3MB/s \n",
            "\u001b[K     |████████████████████████████████| 256kB 61.6MB/s \n",
            "\u001b[K     |████████████████████████████████| 153kB 68.3MB/s \n",
            "\u001b[K     |████████████████████████████████| 235kB 55.8MB/s \n",
            "\u001b[?25h  Building wheel for twint (setup.py) ... \u001b[?25l\u001b[?25hdone\n",
            "  Building wheel for fake-useragent (setup.py) ... \u001b[?25l\u001b[?25hdone\n",
            "  Building wheel for googletransx (setup.py) ... \u001b[?25l\u001b[?25hdone\n",
            "  Building wheel for idna-ssl (setup.py) ... \u001b[?25l\u001b[?25hdone\n",
            "\n",
            "\n",
            "Finished importing things and setting up environment!  At 2020-03-11 22:02:58.417898-05:00\n"
          ],
          "name": "stdout"
        }
      ]
    },
    {
      "cell_type": "code",
      "metadata": {
        "id": "_OOSjr1s2_yH",
        "colab_type": "code",
        "outputId": "2439f660-7e4e-416a-df10-efaba7485c60",
        "colab": {
          "base_uri": "https://localhost:8080/",
          "height": 34
        }
      },
      "source": [
        ""
      ],
      "execution_count": 0,
      "outputs": [
        {
          "output_type": "stream",
          "text": [
            "filename is:  drive/My Drive/Documents/SCHOOL/Watson CI/Parks Project - Watson CI/Twint/Twint Multi Year Pulltwint_2018-01-01_to_2020-03-01.csv\n"
          ],
          "name": "stdout"
        }
      ]
    },
    {
      "cell_type": "code",
      "metadata": {
        "id": "qRJP0dGzvgoq",
        "colab_type": "code",
        "outputId": "73d8b261-e989-40f7-a314-55ed73a2b854",
        "colab": {
          "base_uri": "https://localhost:8080/",
          "height": 34
        }
      },
      "source": [
        "# set some parameters and file names\n",
        "# path = \"drive/My Drive/Twitter Scraper Data/\"\n",
        "path = \"drive/My Drive/Documents/SCHOOL/Watson CI/Parks Project - Watson CI/Twint/Twint Multi Year Pull/\"\n",
        "# start_date = \"2018-01-01\"\n",
        "# end_date = \"2020-03-01\"  #<-- overall start and end dates, lets do month by month though\n",
        "start_date = \"2017-12-19\"\n",
        "end_date = \"2017-12-20\"\n",
        "filename = path + \"twint_\" + start_date + \"_to_\" + end_date + \".csv\"  #The file that Twint will create with the tweets\n",
        "\n",
        "# FIXME comment out limit when ready \n",
        "# limit = 100  #Use this to just gather 100 tweets then stop\n",
        "print(\"filename is: \",filename)\n",
        "\n",
        "#configuring the search \n",
        "# We used the Advanced Search menu on Twitter's website to learn how to exclude/include/AND/OR within their search. \n",
        "c = twint.Config()\n",
        "c.Search = '(jtnp OR joshua_tree OR joshuatree OR \"joshua tree\") -U2 -album -achtung -\"Unforgettable Fire\"'\n",
        "c.Output = filename\n",
        "c.Lang = \"en\"\n",
        "c.Location = True\n",
        "c.Since = start_date\n",
        "c.Until = end_date\n",
        "c.Store_csv = True\n",
        "c.Show_hashtags = True\n",
        "c.Filter_retweets = True\n",
        "# c.Limit = limit  #comment this out I guess\n",
        "c.Count = True\n",
        "c.Stats = True\n",
        "c.Hide_output = True\n",
        "#c.Min_likes = 5 "
      ],
      "execution_count": 0,
      "outputs": [
        {
          "output_type": "stream",
          "text": [
            "filename is:  drive/My Drive/Documents/SCHOOL/Watson CI/Parks Project - Watson CI/Twint/Twint Multi Year Pull/twint_2017-12-19_to_2017-12-20.csv\n"
          ],
          "name": "stdout"
        }
      ]
    },
    {
      "cell_type": "code",
      "metadata": {
        "id": "LNhVOCE27Mpu",
        "colab_type": "code",
        "outputId": "3da40460-aca1-43e3-9899-b1650b0ec249",
        "colab": {
          "base_uri": "https://localhost:8080/",
          "height": 51
        }
      },
      "source": [
        "# Run Once\n",
        "start_time = time.time()\n",
        "twint.run.Search(c)\n",
        "duration = time.time() - start_time\n",
        "print(\"Finished gathering tweets between \" + start_date + \" and \" + end_date + \".  Took \" + str(duration) + \" seconds\")"
      ],
      "execution_count": 0,
      "outputs": [
        {
          "output_type": "stream",
          "text": [
            "[+] Finished: Successfully collected 170 Tweets.\n",
            "Finished gathering tweets between 2017-12-19 and 2017-12-20.  Took 108.42078733444214 seconds\n"
          ],
          "name": "stdout"
        }
      ]
    },
    {
      "cell_type": "markdown",
      "metadata": {
        "id": "XMuF2gAeE-21",
        "colab_type": "text"
      },
      "source": [
        "# Batch Processing of Tweet Gathering"
      ]
    },
    {
      "cell_type": "code",
      "metadata": {
        "id": "d1YvFR608T25",
        "colab_type": "code",
        "outputId": "99db6c9e-c122-43c0-95b7-b6033f6a23d8",
        "colab": {
          "base_uri": "https://localhost:8080/",
          "height": 238
        }
      },
      "source": [
        "# Note - it takes like 6 hours to do this.  Seems like it can do 1.5 tweets per second, so if you have 200,000 tweets it will be almost 40 hours. \n",
        "# Run for a bunch of months\n",
        "path = \"drive/My Drive/Documents/SCHOOL/Watson CI/Parks Project - Watson CI/Twint/Twint Multi Year Pull/\"\n",
        "\n",
        "# I split up by year because Google Colab runtime expires after 12 hours \n",
        "stamps_2017 = [\"2017-01-01\", \"2017-02-01\", \"2017-03-01\", \"2017-04-01\", \"2017-05-01\", \"2017-06-01\", \"2017-07-01\", \"2017-08-01\", \"2017-09-01\", \"2017-10-01\", \"2017-11-01\", \"2017-12-01\", \"2018-01-01\"]\n",
        "stamps_2018 = [\"2018-01-01\", \"2018-02-01\", \"2018-03-01\", \"2018-04-01\", \"2018-05-01\", \"2018-06-01\", \"2018-07-01\", \"2018-08-01\", \"2018-09-01\", \"2018-10-01\", \"2018-11-01\", \"2018-12-01\", \"2019-01-01\"]\n",
        "stamps_2019 = [\"2019-01-01\", \"2019-02-01\", \"2019-03-01\", \"2019-04-01\", \"2019-05-01\", \"2019-06-01\", \"2019-07-01\", \"2019-08-01\", \"2019-09-01\", \"2019-10-01\", \"2019-11-01\", \"2019-12-01\", \"2020-01-01\"]\n",
        "stamps_2020 = [\"2020-01-01\", \"2020-02-01\", \"2020-03-01\"]\n",
        "\n",
        "year = 2020\n",
        "path = path + str(year) + \"/\"\n",
        "\n",
        "h = 0\n",
        "tz = timezone('EST')\n",
        "duration = 27.6 # minutes, estimated time to pull a month of data.  \n",
        "while h < (len(stamps_2020) - 1):\n",
        "  start_time = time.time()\n",
        "  start_date = stamps_2020[h]\n",
        "  end_date = stamps_2020[h+1]\n",
        "\n",
        "  #New file path - VERY IMPORTANT don't overwrite the nice file we just made\n",
        "  filename = path + \"twint_\" + start_date + \"_to_\" + end_date + \".csv\"\n",
        "  print(\"\\nGathering data for \" + start_date + \" to \" + end_date + \"...\")\n",
        "  print(\"Started at \" + str(datetime.now(tz)) + \",  should end around \" + str(datetime.now(tz) + timedelta(minutes=duration))  )\n",
        "  \n",
        "\n",
        "  #Do the thing here\n",
        "  #configuring the search \n",
        "  c = twint.Config()\n",
        "  c.Search = '(jtnp OR joshua_tree OR joshuatree OR \"joshua tree\") -U2 -album -achtung -\"Unforgettable Fire\"'\n",
        "  c.Output = filename  # this is really all we need, I felt better having everything here though. \n",
        "  c.Lang = \"en\"\n",
        "  c.Location = True\n",
        "  c.Since = start_date\n",
        "  c.Until = end_date\n",
        "  c.Store_csv = True\n",
        "  c.Show_hashtags = True\n",
        "  c.Filter_retweets = True\n",
        "  # c.Limit = 20  #comment this out if you don't want to limit yourself\n",
        "  c.Count = True\n",
        "  c.Stats = True\n",
        "  c.Hide_output = True\n",
        "\n",
        "  twint.run.Search(c)\n",
        "\n",
        "  #How long did it take?\n",
        "  duration = (time.time() - start_time) / 60\n",
        "  print(\"\\nFinished gathering tweets between \" + start_date + \" and \" + end_date + \".  Took \" + str(duration) + \" minutes\")\n",
        "\n",
        "  h += 1\n",
        "\n"
      ],
      "execution_count": 0,
      "outputs": [
        {
          "output_type": "stream",
          "text": [
            "\n",
            "Gathering data for 2020-01-01 to 2020-02-01...\n",
            "Started at 2020-03-05 22:43:00.235658-05:00,  should end around 2020-03-05 23:10:36.235683-05:00\n"
          ],
          "name": "stdout"
        },
        {
          "output_type": "stream",
          "text": [
            "CRITICAL:root:twint.get:Tweet:Response payload is not completed\n"
          ],
          "name": "stderr"
        },
        {
          "output_type": "stream",
          "text": [
            "[+] Finished: Successfully collected 4218 Tweets.\n",
            "\n",
            "Finished gathering tweets between 2020-01-01 and 2020-02-01.  Took 33.54111537535985 minutes\n",
            "\n",
            "Gathering data for 2020-02-01 to 2020-03-01...\n",
            "Started at 2020-03-05 23:16:32.702676-05:00,  should end around 2020-03-05 23:50:05.169624-05:00\n",
            "[+] Finished: Successfully collected 3900 Tweets.\n",
            "\n",
            "Finished gathering tweets between 2020-02-01 and 2020-03-01.  Took 29.609973029295602 minutes\n"
          ],
          "name": "stdout"
        }
      ]
    },
    {
      "cell_type": "code",
      "metadata": {
        "id": "KIhpmkhM2E3J",
        "colab_type": "code",
        "colab": {}
      },
      "source": [
        "# view output csv with pandas\n",
        "# TODO fixe this to include column names \n",
        "jtnp_tweets = pd.read_csv(filename)\n",
        "\n",
        "jtnp_tweets.columns = ['id','conversation_id','created_at',\n",
        "                     'date','time','timezone','user_id','username','name','place','tweet','mentions','urls','photos','replies_count','retweets_count','likes_count','hashtags','cashtags','link','retweet','quote_url','video','near','geo','source','user_rt_id','user_rt','retweet_id','reply_to','retweet_date','translate','trans_src','trans_dest']\n",
        "\n",
        "jtnp_tweets"
      ],
      "execution_count": 0,
      "outputs": []
    },
    {
      "cell_type": "code",
      "metadata": {
        "id": "LqY5mgr0uJK3",
        "colab_type": "code",
        "colab": {}
      },
      "source": [
        "# print a few of them\n",
        "for txt in jtnp_tweets.iloc[:,10]:\n",
        "  print(txt)\n"
      ],
      "execution_count": 0,
      "outputs": []
    },
    {
      "cell_type": "code",
      "metadata": {
        "id": "LJ8vg35J2f5c",
        "colab_type": "code",
        "colab": {}
      },
      "source": [
        ""
      ],
      "execution_count": 0,
      "outputs": []
    },
    {
      "cell_type": "markdown",
      "metadata": {
        "id": "pMdj97bg6RKz",
        "colab_type": "text"
      },
      "source": [
        "# Combine CSVs"
      ]
    },
    {
      "cell_type": "code",
      "metadata": {
        "id": "f9bcwZ892RxS",
        "colab_type": "code",
        "colab": {}
      },
      "source": [
        "# Join all CSVs in a folder into one \n",
        "# Note - DO NOT delete the headers.  It uses them to concatenate the files and actually doens't repeat them.  Pretty nifty. \n",
        "from os import chdir\n",
        "import glob\n",
        "\n",
        "year = 2021\n",
        "year_str = str(year)\n",
        "\n",
        "folder_with_files_to_join = \"drive/My Drive/Documents/SCHOOL/Watson CI/Parks Project - Watson CI/Twint/Twint Multi Year Pull/\"+year_str+\"/\"\n",
        "path = folder_with_files_to_join\n",
        "\n",
        "all_files = glob.glob(os.path.join(path, \"*.csv\"))\n",
        "print(all_files)\n",
        "df_from_each_file = (pd.read_csv(f) for f in all_files)\n",
        "concatenated_df   = pd.concat(df_from_each_file, ignore_index=True, sort=None)\n",
        "\n",
        "print(\"Length before cleaning:  \" + str(len(concatenated_df)))\n",
        "\n",
        "#Simple minimal cleaning\n",
        "#Drop Duplicates - there shouldn't be any, but who knows\n",
        "concatenated_df.drop_duplicates()\n",
        "concatenated_df.dropna(how='all', inplace=True)  # Drop rows with NaN or missing value in all columns\n",
        "concatenated_df.dropna(how='all', subset=['id', 'conversation_id'], inplace=True)\n",
        "\n",
        "\n",
        "print(\"Length after cleaning:  \" + str(len(concatenated_df)))\n",
        "\n",
        "\n",
        "\n",
        "file_out = \"drive/My Drive/Documents/SCHOOL/Watson CI/Parks Project - Watson CI/Twint/Twint Multi Year Pull/\"+year_str+\" ALL Combined.csv\"\n",
        "concatenated_df.to_csv(file_out, index=False)\n",
        "print(\"done\")\n"
      ],
      "execution_count": 0,
      "outputs": []
    },
    {
      "cell_type": "markdown",
      "metadata": {
        "id": "BAbqqI42VVke",
        "colab_type": "text"
      },
      "source": [
        "# Instagram picture pulling"
      ]
    },
    {
      "cell_type": "code",
      "metadata": {
        "id": "C1VEZUUsb2Aj",
        "colab_type": "code",
        "colab": {}
      },
      "source": [
        "from itertools import dropwhile, takewhile\n",
        "import glob\n",
        "import json\n",
        "import shutil\n",
        "import os\n",
        "\n",
        "!pip install instaloader\n",
        "import instaloader\n",
        "print(\"Imported/Installed Instaloader sucessfully\")"
      ],
      "execution_count": 0,
      "outputs": []
    },
    {
      "cell_type": "code",
      "metadata": {
        "id": "7IeESAdQVYuD",
        "colab_type": "code",
        "outputId": "39bf903d-ee06-47c4-8286-15f38a9612e7",
        "colab": {
          "base_uri": "https://localhost:8080/",
          "height": 34
        }
      },
      "source": [
        "# I found this library and thought it was interesting for future work.  \n",
        "# We didn't use it on our project but maybe the next group will.  Easy way\n",
        "# to pull a bunch of pictures about a subject.  \n",
        "\n",
        "# FUNCTION DEFINITIONS\n",
        "\n",
        "L = instaloader.Instaloader(download_pictures=True,\n",
        "                            download_video_thumbnails=False,\n",
        "                            download_videos=False,\n",
        "                            download_geotags=True,\n",
        "                            download_comments=False,\n",
        "                            save_metadata=True,\n",
        "                            compress_json=False\n",
        "                            )\n",
        "\n",
        "# two arguments: keyword and number of files\n",
        "def get_it(keyword,numbers_of_files):\n",
        "    while numbers_of_files > 0:\n",
        "        for post in L.get_hashtag_posts(keyword):\n",
        "            # post is an instance of instaloader.Post\n",
        "            L.download_post(post, target='#'+keyword)\n",
        "            numbers_of_files-=1\n",
        "            # print(numbers_of_files)\n",
        "            if numbers_of_files ==0:\n",
        "                break\n",
        "        print(\"loop ended for \" + keyword)\n",
        "\n",
        "\n",
        "        \n",
        "# using Instagram's image recognition: it is written on json file, with key of \"__typename\"\n",
        "def discern_image_file(keyword):\n",
        "    # read file list that is previously downloaded through get_it\n",
        "    read_files_list = glob.glob(\"#\"+keyword+\"/*.json\")\n",
        "    print(read_files_list)\n",
        "    write_files_list = []\n",
        "    # open every json file, check whether it is streetart image\n",
        "    # It seems like streetart image is either classified as \"GraphSidecar\" or \"GraphImage\" through Instagram image recognition\n",
        "    for json_file_name in read_files_list:\n",
        "        # open json file\n",
        "        with open(json_file_name,'r',encoding=\"UTF8\") as data_file:\n",
        "            # read json file\n",
        "            data = json.load(data_file)\n",
        "            file_name = json_file_name[:-5]\n",
        "            # print(data)  # fair warning this prints a LOT of information\n",
        "            #Pull some data out of it:\n",
        "            this_caption = data[\"node\"][\"edge_media_to_caption\"][\"edges\"][0][\"node\"][\"text\"]\n",
        "            this_url = data[\"node\"][\"display_resources\"][0][\"src\"]\n",
        "            this_caption = this_caption.replace('\\r.', '').replace('\\n.', '').replace('\\r-', '').replace('\\n-', '').replace('\\r', ' ').replace('\\n', ' ')  #Get everything onto one line\n",
        "            this_caption = this_caption.replace(' .','').replace('•','') #People use a character on each line \n",
        "            print(this_caption + \"      \" + this_url)\n",
        "\n",
        "            if data[\"node\"][\"__typename\"] == \"GraphSidecar\":\n",
        "                # print(file_name + \" is GraphSidecar typename\")\n",
        "                write_files_list.append(file_name)\n",
        "            elif data[\"node\"][\"__typename\"] == \"GraphImage\":  #all of ours seem to be this\n",
        "                # print(file_name + \" is GraphImage typename\")\n",
        "                write_files_list.append(file_name)\n",
        "            else:\n",
        "                print(file_name + \" is not streetarts image\")\n",
        "                pass\n",
        "    # print(write_files_list)\n",
        "    return write_files_list\n",
        "\n",
        "\n",
        "def sort_and_move_image_file(keyword):   \n",
        "    # change the source directory to your project directory\n",
        "    # source = '/path/to/source_folder'\n",
        "    source = \"\"  # For colab use just leave it blank and it magically works\n",
        "    dest   = \"drive/My Drive/Documents/SCHOOL/Artifical Neural Networks 8720/Takehome 2 files/\" + keyword + \"_sorted/\"\n",
        "\n",
        "    # make directory of representative pictures only\n",
        "    os.mkdir(dest)\n",
        "\n",
        "         \n",
        "    all_image_file_list = glob.glob(\"#\"+keyword+\"/*.jpg\")\n",
        "    write_files_list = discern_image_file(keyword)\n",
        "    print(all_image_file_list)\n",
        "    print(write_files_list)\n",
        "    for item in write_files_list:\n",
        "        matching_list = [s for s in all_image_file_list if item in s]\n",
        "        print(matching_list)\n",
        "        for matching_item in matching_list:\n",
        "            print(matching_item)\n",
        "            shutil.move(source+matching_item, dest)\n",
        "\n",
        "print(\"Set up Functions sucessfully\")\n",
        "\n",
        "\n",
        "# posts = L.get_hashtag_posts('jtnp')\n",
        "# or\n",
        "# posts = instaloader.Profile.from_username(L.context, PROFILE).get_posts()\n",
        "# SINCE = datetime(2020, 1, 1)\n",
        "# UNTIL = datetime(2020, 1, 3)\n",
        "# for post in takewhile(lambda p: p.date > UNTIL, dropwhile(lambda p: p.date > SINCE, posts)):\n",
        "#     print(post.date)\n",
        "#     L.download_post(post, '#jtnp')"
      ],
      "execution_count": 0,
      "outputs": [
        {
          "output_type": "stream",
          "text": [
            "Set up Functions sucessfully\n"
          ],
          "name": "stdout"
        }
      ]
    },
    {
      "cell_type": "code",
      "metadata": {
        "id": "DeH6nq_rYhsD",
        "colab_type": "code",
        "outputId": "009b1146-520e-428a-9fd5-6a59da0521ed",
        "colab": {
          "base_uri": "https://localhost:8080/",
          "height": 802
        }
      },
      "source": [
        "my_keyword = \"joshuatreenationalpark\"\n",
        "# sample function just to get the pics\n",
        "# get_it(my_keyword,2)\n",
        "\n",
        "\n",
        "# discern image files only\n",
        "discern_image_file(my_keyword)\n",
        "\n",
        "# discern, sort, and move image files to separate directory\n",
        "# sort_and_move_image_file(my_keyword)"
      ],
      "execution_count": 0,
      "outputs": [
        {
          "output_type": "stream",
          "text": [
            "['#joshuatreenationalpark/2020-03-11_02-15-52_UTC.json', '#joshuatreenationalpark/2020-03-11_02-44-10_UTC.json', '#joshuatreenationalpark/2020-03-11_02-21-02_UTC.json', '#joshuatreenationalpark/2020-03-11_02-28-19_UTC.json', '#joshuatreenationalpark/2020-03-11_01-39-54_UTC.json', '#joshuatreenationalpark/2020-03-11_02-32-09_UTC.json', '#joshuatreenationalpark/2020-03-11_02-11-42_UTC.json', '#joshuatreenationalpark/2020-03-11_01-36-56_UTC.json', '#joshuatreenationalpark/2020-03-11_01-40-12_UTC.json', '#joshuatreenationalpark/2020-03-11_01-36-46_UTC.json', '#joshuatreenationalpark/2020-03-11_02-05-29_UTC.json', '#joshuatreenationalpark/2020-03-11_01-38-39_UTC.json', '#joshuatreenationalpark/2020-03-11_01-58-18_UTC.json', '#joshuatreenationalpark/2020-03-11_02-42-46_UTC.json', '#joshuatreenationalpark/2020-03-11_02-06-00_UTC.json', '#joshuatreenationalpark/2020-03-11_02-08-44_UTC.json', '#joshuatreenationalpark/2020-03-11_01-51-58_UTC.json', '#joshuatreenationalpark/2020-03-11_01-47-41_UTC.json', '#joshuatreenationalpark/2020-03-11_01-41-01_UTC.json', '#joshuatreenationalpark/2020-03-11_02-26-22_UTC.json', '#joshuatreenationalpark/2020-03-11_02-14-29_UTC.json', '#joshuatreenationalpark/2020-03-11_01-50-34_UTC.json']\n",
            "Fog rolled in right as we were about to begin out first hike at #joshuatreenationalpark  These rock formations were so eerie and breathtaking in the fog but it got so thick we couldn’t really see anything so we’ll try again tomorrow. Can’t wait to see it in the sunlight!! @joshuatreenps #splitrock #joshuatree #findyourpark #optoutside #nationalparks #nationalparkgeek #hiking #hikingadventures #rosalesadventures #springbreak2020      https://scontent-iad3-1.cdninstagram.com/v/t51.2885-15/sh0.08/e35/s640x640/89292457_654893408596377_1368691920810785493_n.jpg?_nc_ht=scontent-iad3-1.cdninstagram.com&_nc_cat=109&_nc_ohc=MvDicjIBXnkAX-2Rrna&oh=e0ab40f74d1cb84f4b9be61c7ebc2cca&oe=5E9B74AC\n",
            "The Spirit of the American West, Vision 1 #photooftheday #mojavedesert #travel #nationalpark #desertvibes #photography #california #explore #desertlife #roadtrip #joshuatreecalifornia #travelphotography #adventure #joshuatreenationalpark #wanderlust #joshuatree #desertphotography #nature #yuccavalley #beautiful #socal #hiking #sunset #landscape #desert #naturephotography #landscapephotography #fujifilm #fujixt3 #xf56mmf12      https://scontent-iad3-1.cdninstagram.com/v/t51.2885-15/sh0.08/e35/s640x640/89641610_828275174324566_2897023505081346545_n.jpg?_nc_ht=scontent-iad3-1.cdninstagram.com&_nc_cat=110&_nc_ohc=9U_qr1mII08AX8jeH6J&oh=c40a791903675f9ec4352151dd8e8b75&oe=5E9BA6C7\n",
            "#skullrock #desert #californiadesert #deathvalley #joshuatreenationalpark #joshuatree #cactus🌵 #cacti #cactus #rock #rockytrail #trail #california #nature      https://scontent-iad3-1.cdninstagram.com/v/t51.2885-15/sh0.08/e35/p640x640/87775372_509585026647988_4674383865349687941_n.jpg?_nc_ht=scontent-iad3-1.cdninstagram.com&_nc_cat=104&_nc_ohc=tGNVw5dOIZgAX-ooebK&oh=d3f1b74a9719af093406fac4d88e248c&oe=5E9C8982\n",
            "A magical day spent enjoying wildlife and hunting down desert crystals 🦋 @joshuatreenps #joshuatree #joshuatreenationalpark      https://scontent-iad3-1.cdninstagram.com/v/t51.2885-15/sh0.08/e35/s640x640/89283027_1085956368419473_704045031799501764_n.jpg?_nc_ht=scontent-iad3-1.cdninstagram.com&_nc_cat=101&_nc_ohc=Oog6l7OOwkYAX86ImMA&oh=396d1636bf2b1d292590abce046019a3&oe=5E973E01\n",
            "Courtney & Kai- Joshua Tree, Ca.  #photography #travel #ig #photooftheday #travelphotographer #photographer #sunset #explore #naturelovers #wanderlust #instagood #beautiful #nature #wandurlust  #travel #desert #skies #traveler  #beautiful #joshuatree #joshuatreenationalpark #sonyalpha #sonyphotography #tamron #tamron2875 #mom #momsofinstagram #momandson #bohostyle #bohemianstyle #bohochic      https://scontent-iad3-1.cdninstagram.com/v/t51.2885-15/sh0.08/e35/s640x640/89476705_580752539186694_3257681450852785227_n.jpg?_nc_ht=scontent-iad3-1.cdninstagram.com&_nc_cat=106&_nc_ohc=fl0y5OTYC5oAX_P-Ej1&oh=214e6c92cf9e256d358b85f3c71991af&oe=5E9079EF\n",
            "Storm clouds and sunbeams today in #joshuatreenationalpark Pretty epic and ethereal scenery all around #mangela_vacation  #manjilla_vacation      https://scontent-iad3-1.cdninstagram.com/v/t51.2885-15/sh0.08/e35/s640x640/89601830_1160686010944643_5031645001713559420_n.jpg?_nc_ht=scontent-iad3-1.cdninstagram.com&_nc_cat=111&_nc_ohc=_lB4wPrEfaYAX9Dg6G1&oh=af82f00a05a1c714131a3b8c3622d14b&oe=5E6A5F4F\n",
            "#joshuatreenationalpark/2020-03-11_02-32-09_UTC is not streetarts image\n",
            "Climbing is only sort of ridiculous. 📷: @ericrcorrales #rockclimbing #bouldering #boulderingproblems #climbon #blackdiamond #lasportiva #thenorthface #climbing #climbing_pictures_of_instagram #boulderdenim #dynamitestarfish #joshuatreenationalpark #bouldering_pictures_of_instagram #lasportiva      https://scontent-iad3-1.cdninstagram.com/v/t51.2885-15/sh0.08/e35/p640x640/89465277_645867959481739_4245812233792454360_n.jpg?_nc_ht=scontent-iad3-1.cdninstagram.com&_nc_cat=107&_nc_ohc=oxhwCuOznKIAX8g9gyT&oh=3eb8a090fdab86113a3aa7d00c7ee59b&oe=5EA55BAE\n",
            "When it snowed in Joshua Tree. #joshuatree #nationalpark #climb #joshuatreenationalpark #mojave #cali #snowday #colddesert #sportclimbing #outside      https://scontent-iad3-1.cdninstagram.com/v/t51.2885-15/sh0.08/e35/s640x640/89271884_105768017597893_593035562433336522_n.jpg?_nc_ht=scontent-iad3-1.cdninstagram.com&_nc_cat=101&_nc_ohc=1Py4I0r3rmEAX-Ix6eS&oh=c2dadab708891d86c830c22fe508d5d5&oe=5E9675FE\n",
            "Exploring! #joshuatreenationalpark #stickeraddict #roadtrips #exploremore #californiagram  #californiadreaming #thegreatoutdoors #travel #californiaadventure #travelblogger #travelguide #visitutah #wanderlust #wander #neverstopexploring #travelblogger #adventuretime #adventure #discoverearth #goatworthy #tourtheplanet #supreme #stayandwonder #roamtheplanet #letsgosomewhere #theoutbound #travelling #traveller #stickerart #explorecalifornia #nationalparks      https://scontent-iad3-1.cdninstagram.com/v/t51.2885-15/sh0.08/e35/s640x640/89364665_787963181691029_5456611375133234310_n.jpg?_nc_ht=scontent-iad3-1.cdninstagram.com&_nc_cat=105&_nc_ohc=8v3A8oFjdMkAX_V9xqp&oh=d267f0d3a8f014e1e052a77fc91a6ba5&oe=5E940413\n",
            "Full moon Sunday! #joshuatreenationalpark #stickeraddict #roadtrips #exploremore #californiagram  #californiadreaming #thegreatoutdoors #travel #californiaadventure #travelblogger #travelguide #visitutah #wanderlust #wander #neverstopexploring #travelblogger #adventuretime #adventure #discoverearth #goatworthy #tourtheplanet #supreme #stayandwonder #roamtheplanet #letsgosomewhere #theoutbound #travelling #traveller #stickerart #explorecalifornia #nationalparks      https://scontent-iad3-1.cdninstagram.com/v/t51.2885-15/sh0.08/e35/s640x640/89381340_887692568339631_2242348565212812082_n.jpg?_nc_ht=scontent-iad3-1.cdninstagram.com&_nc_cat=103&_nc_ohc=Z0OGQm5DtDYAX_ZoGdD&oh=57bc627c4ef791d97ed9494a6f6a9a5f&oe=5E91AF27\n",
            "It’s better to walk alone than with a crowd these days. #wideopenspaces #COVID-19 #nopeoplenoproblems #iwalkalone #joshuatreenationalpark #joshuatrees #california #nationalpark      https://scontent-iad3-1.cdninstagram.com/v/t51.2885-15/sh0.08/e35/p640x640/89601327_1398169473725150_4690870115951011879_n.jpg?_nc_ht=scontent-iad3-1.cdninstagram.com&_nc_cat=102&_nc_ohc=Yu9T0zL9eKoAX_i3OEt&oh=e03c8929f3f6f988a775970ccc5a09f7&oe=5E96AF96\n",
            "Best sunrise of the trip! #joshuatreenationalpark #stickeraddict #roadtrips #exploremore #californiagram  #californiadreaming #thegreatoutdoors #travel #californiaadventure #travelblogger #travelguide #visitutah #wanderlust #wander #neverstopexploring #travelblogger #adventuretime #adventure #discoverearth #goatworthy #tourtheplanet #supreme #stayandwonder #roamtheplanet #letsgosomewhere #theoutbound #travelling #traveller #stickerart #explorecalifornia #nationalparks      https://scontent-iad3-1.cdninstagram.com/v/t51.2885-15/sh0.08/e35/s640x640/87382073_664430770976922_963524660664035231_n.jpg?_nc_ht=scontent-iad3-1.cdninstagram.com&_nc_cat=106&_nc_ohc=QZOaIpl_2FAAX8KtaLw&oh=8ba1e485f96f901b8cc433c18e618ab7&oe=5E916DAB\n",
            "Keys view Joshua Tree park. - #joshuatree #joshuatreenationalpark #joshuatreenps #joshuatreenps #mountains #nature #naturelovers #landscape #landscapephotography #beautifuldestinations #california #californiacaptures #desert #mojavedesert #mojave #photography #nationalpark #nationalparkphotography #nationalparkgeek #findyourpark #liveyouradventure #desertphotography #visitcalifornia #explorecalifornia #californiatourism #roadtrip #hiking #californiaroadtrip #discovercalifornia #scenic #mountainview      https://scontent-iad3-1.cdninstagram.com/v/t51.2885-15/sh0.08/e35/s640x640/89601255_219481072441037_2828944068887881937_n.jpg?_nc_ht=scontent-iad3-1.cdninstagram.com&_nc_cat=105&_nc_ohc=WRVRwHYbFHAAX-AMxch&oh=93f606ad6005742a92fe50993ddcfd73&oe=5EA4BED8\n",
            "A belt always makes for the perfect accessory to an outfit or photo!      #joshuatree #joshuatreenationalpark #starphotography #astrophotography #nationalpark #cloudynight #nightphotography #blackandwhite #blackandwhitephotography #optoutside #landscapephotography  #conquer_la #conquer_ca #earthpix #todayscalifornia #52weeksofnature #visitcalifornia #californiaphoto #california #californiaphotography #earthfocus #sonya7iii #sonyalphasclub #instagood #everydaycalifornia #moodygrams #shannasshots #nbcla #ktla5news #abc7la      https://scontent-iad3-1.cdninstagram.com/v/t51.2885-15/sh0.08/e35/p640x640/89599492_520662298847188_1534418260550810279_n.jpg?_nc_ht=scontent-iad3-1.cdninstagram.com&_nc_cat=104&_nc_ohc=VYPmq1oU_PoAX8IikVP&oh=b68d55ff2802f51e3ac829de302151e4&oe=5E94BD88\n",
            "A rare sighting in #jtree - bolts! Thanks for the snap 📸 @tinytruckclimbers #dynotights #getoutstayout #sportclimbing #clippingbolts #joshuatree #jtreeclimbing #climbjtree #climbcalifornia #hikecalifornia #joshuatreenationalpark #wanderlust, #offthebeatenpath, #adventuring #forceofnature #rei1440project #mytinyatlas  @joshuatreenps      https://scontent-iad3-1.cdninstagram.com/v/t51.2885-15/sh0.08/e35/p640x640/89365971_296117398028722_4206763006680348903_n.jpg?_nc_ht=scontent-iad3-1.cdninstagram.com&_nc_cat=110&_nc_ohc=uVJU5uH2jfQAX-ngCKj&oh=4e9b86f6ed37376055dbbdf5ebb64072&oe=5E91DE06\n",
            "#blackandwhite #blackandwhitephotography #joshuatreenationalpark #bnwphotography #bnw #bnw_captures #bnwmood #noir #nowherediary #cinematicphotography #bnw_nature #seetheworld #naturephotography #nationalparks #thenaturalworld #joshuatree #californiaadventure #globalfotografia_bnw #bnw_addicted      https://scontent-iad3-1.cdninstagram.com/v/t51.2885-15/sh0.08/e35/s640x640/89836161_248660759471796_8551100653263861135_n.jpg?_nc_ht=scontent-iad3-1.cdninstagram.com&_nc_cat=100&_nc_ohc=AfTnUmCns5MAX8HYXuD&oh=1dc3e7ef5a563a48370291f261b6ba93&oe=5E9D03E5\n",
            "Exploring the inner depths of our planet...or hiking around a canyon and solidifying my fear of ladders. Not heights, just ladders.⁠⠀ #APERSPECTIVEYEG⁠⠀ X⁠⠀ X⁠⠀ X⁠⠀ #joshuatree #joshuatreenationalpark #adventureenthusiasts #thegreatoutdoors #choosemountains #getoitstayout #welivetoexplore #adventurethatislife #liveyoursdventure #whyihike #idhikethatcrew #optoutside #staywild #hikingadventures #hikingtrail #hikinglife #amongthewild #peoplewhoadventure #choosemountains #modernhiker #neverstopexploring #outdooradventures #socaltravels #seekthetrails #allaboutadventures #la #palmsprings      https://scontent-iad3-1.cdninstagram.com/v/t51.2885-15/sh0.08/e35/p640x640/89604731_496334001062041_876119456130473439_n.jpg?_nc_ht=scontent-iad3-1.cdninstagram.com&_nc_cat=101&_nc_ohc=rbUXUwGhNRgAX_M5JCz&oh=d9cb33c48e8fed04c08780e098c3a034&oe=5E9664D8\n",
            "We out here! #joshuatreenationalpark #stickeraddict #roadtrips #exploremore #californiagram  #californiadreaming #thegreatoutdoors #travel #californiaadventure #travelblogger #travelguide #visitutah #wanderlust #wander #neverstopexploring #travelblogger #adventuretime #adventure #discoverearth #goatworthy #tourtheplanet #supreme #stayandwonder #roamtheplanet #letsgosomewhere #theoutbound #travelling #traveller #stickerart #explorecalifornia #nationalparks      https://scontent-iad3-1.cdninstagram.com/v/t51.2885-15/sh0.08/e35/s640x640/89482851_1587291088100131_8803428311348624875_n.jpg?_nc_ht=scontent-iad3-1.cdninstagram.com&_nc_cat=107&_nc_ohc=44QrooaftFYAX-B3QKH&oh=ec47723678d444bcc9a5ab01c3dc7b5d&oe=5E964928\n",
            "Skull rock! #joshuatreenationalpark #stickeraddict #roadtrips #exploremore #californiagram  #californiadreaming #thegreatoutdoors #travel #californiaadventure #travelblogger #travelguide #visitutah #wanderlust #wander #neverstopexploring #travelblogger #adventuretime #adventure #discoverearth #goatworthy #tourtheplanet #supreme #stayandwonder #roamtheplanet #letsgosomewhere #theoutbound #travelling #traveller #stickerart #explorecalifornia #nationalparks      https://scontent-iad3-1.cdninstagram.com/v/t51.2885-15/sh0.08/e35/s640x640/87422092_491135848462888_2518567851759189830_n.jpg?_nc_ht=scontent-iad3-1.cdninstagram.com&_nc_cat=104&_nc_ohc=ik1MdbclgyoAX_I2MQl&oh=7a46b3034e5f266343afca2ff7c2531a&oe=5E9C4638\n",
            "What an adventure we had exploring this national park! #boymom #joshuatree #joshuatreenationalpark #wanderlust      https://scontent-iad3-1.cdninstagram.com/v/t51.2885-15/sh0.08/e35/s640x640/89919745_139744087358177_5970365512049247390_n.jpg?_nc_ht=scontent-iad3-1.cdninstagram.com&_nc_cat=105&_nc_ohc=JXIss62cM7QAX_m170O&oh=b81eec8aa6fbbee6d66421af9d68b93b&oe=5E9C75E3\n",
            "Joshua Tree surprised me, pretty cool place to check out! Got some good bouldering in!      https://scontent-iad3-1.cdninstagram.com/v/t51.2885-15/sh0.08/e35/p640x640/89285344_1067714680294004_9071048754301574888_n.jpg?_nc_ht=scontent-iad3-1.cdninstagram.com&_nc_cat=108&_nc_ohc=kds1wGA_dYIAX9qSErc&oh=7766a348867b7cf58c7c3f04c841405d&oe=5EA67297\n",
            "Courtney & Kai- Joshua Tree, Ca.  #photography #travel #ig #photooftheday #travelphotographer #photographer #sunset #explore #naturelovers #wanderlust #instagood #beautiful #nature #wandurlust  #travel #desert #skies #traveler  #beautiful #joshuatree #joshuatreenationalpark #sonyalpha #sonyphotography #tamron #tamron2875 #mom #momsofinstagram #momandson #bohostyle #bohemianstyle #bohochic      https://scontent-iad3-1.cdninstagram.com/v/t51.2885-15/sh0.08/e35/s640x640/82573386_551672808839493_9025374567812134270_n.jpg?_nc_ht=scontent-iad3-1.cdninstagram.com&_nc_cat=109&_nc_ohc=vf5AY1M3gAoAX9944qv&oh=ca43104313c9282fd445ccc9fd2d2729&oe=5E93E901\n"
          ],
          "name": "stdout"
        },
        {
          "output_type": "execute_result",
          "data": {
            "text/plain": [
              "['#joshuatreenationalpark/2020-03-11_02-15-52_UTC',\n",
              " '#joshuatreenationalpark/2020-03-11_02-44-10_UTC',\n",
              " '#joshuatreenationalpark/2020-03-11_02-21-02_UTC',\n",
              " '#joshuatreenationalpark/2020-03-11_02-28-19_UTC',\n",
              " '#joshuatreenationalpark/2020-03-11_01-39-54_UTC',\n",
              " '#joshuatreenationalpark/2020-03-11_02-11-42_UTC',\n",
              " '#joshuatreenationalpark/2020-03-11_01-36-56_UTC',\n",
              " '#joshuatreenationalpark/2020-03-11_01-40-12_UTC',\n",
              " '#joshuatreenationalpark/2020-03-11_01-36-46_UTC',\n",
              " '#joshuatreenationalpark/2020-03-11_02-05-29_UTC',\n",
              " '#joshuatreenationalpark/2020-03-11_01-38-39_UTC',\n",
              " '#joshuatreenationalpark/2020-03-11_01-58-18_UTC',\n",
              " '#joshuatreenationalpark/2020-03-11_02-42-46_UTC',\n",
              " '#joshuatreenationalpark/2020-03-11_02-06-00_UTC',\n",
              " '#joshuatreenationalpark/2020-03-11_02-08-44_UTC',\n",
              " '#joshuatreenationalpark/2020-03-11_01-51-58_UTC',\n",
              " '#joshuatreenationalpark/2020-03-11_01-47-41_UTC',\n",
              " '#joshuatreenationalpark/2020-03-11_01-41-01_UTC',\n",
              " '#joshuatreenationalpark/2020-03-11_02-26-22_UTC',\n",
              " '#joshuatreenationalpark/2020-03-11_02-14-29_UTC',\n",
              " '#joshuatreenationalpark/2020-03-11_01-50-34_UTC']"
            ]
          },
          "metadata": {
            "tags": []
          },
          "execution_count": 65
        }
      ]
    },
    {
      "cell_type": "code",
      "metadata": {
        "id": "wxEIAgBUevSY",
        "colab_type": "code",
        "colab": {}
      },
      "source": [
        ""
      ],
      "execution_count": 0,
      "outputs": []
    }
  ]
}
